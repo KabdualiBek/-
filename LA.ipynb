{
 "cells": [
  {
   "cell_type": "code",
   "execution_count": 51,
   "metadata": {
    "scrolled": false
   },
   "outputs": [],
   "source": [
    "import numpy as np\n",
    "import requests\n",
    "import json\n",
    "import time\n",
    "\n",
    "#from matplotlib.finance import candlestick2_ohlc\n",
    "import matplotlib.pyplot as plt\n",
    "import matplotlib.ticker as ticker\n",
    "import datetime as datetime\n",
    "\n",
    "start_time = time.time() - 299.5*60*60\n",
    "resource = requests.get(\"https://poloniex.com/public?command=returnChartData&currencyPair=BTC_ETH&start=%s&end=9999999999&period=1800\" % start_time)\n",
    "data = json.loads(resource.text)\n",
    "\n",
    "quotes = {}\n",
    "quotes['open']=np.asarray([item['open'] for item in data])\n",
    "quotes['close']=np.asarray([item['close'] for item in data])\n",
    "\n",
    "time_series = quotes['open'] - quotes['close']"
   ]
  },
  {
   "cell_type": "code",
   "execution_count": 53,
   "metadata": {},
   "outputs": [
    {
     "name": "stdout",
     "output_type": "stream",
     "text": [
      "0.4533333333333333 2\n"
     ]
    }
   ],
   "source": [
    "l = len(time_series) // 2\n",
    "ts = time_series[l:]\n",
    "from sklearn.cluster import KMeans\n",
    "from sklearn.metrics import accuracy_score\n",
    "scores = np.empty(14)\n",
    "for k in range(2, 16):\n",
    "    X = time_series[:l - l%k]\n",
    "    X = X.reshape(l//k, k)\n",
    "    KMean = KMeans(n_clusters=k)\n",
    "    KMean.fit(X)\n",
    "    y_true = KMean.labels_\n",
    "    X1 = ts[:l - l%k]\n",
    "    X1 = X1.reshape(l//k, k)\n",
    "    y_pred = KMean.predict(X1)\n",
    "    scores[k - 2] = accuracy_score(y_true, y_pred)\n",
    "k = 2 + np.argmax(scores)\n",
    "print(max(scores),k)\n",
    " "
   ]
  },
  {
   "cell_type": "code",
   "execution_count": 54,
   "metadata": {},
   "outputs": [
    {
     "name": "stdout",
     "output_type": "stream",
     "text": [
      "[-4.91622645e-05 -4.04842404e-02 -1.45272807e+00 -8.21883767e-01\n",
      "  1.07245316e+00  1.61653146e+00  4.07204567e+04 -1.99829717e+03\n",
      " -3.45380568e+03 -7.26742818e+04  4.03048656e+02  1.63291042e+04\n",
      " -1.13980542e+04 -7.89575232e+03 -3.63365507e+04 -3.39626774e+04\n",
      "  2.48440948e+03 -1.43181457e+04  6.99682591e+03 -3.92927575e+04\n",
      " -3.19350037e+04]\n"
     ]
    }
   ],
   "source": [
    "ts = time_series\n",
    "N = len(ts)\n",
    "p = 2*k + 1\n",
    "c = p*(p+1)//2 + p + 1 # columns\n",
    "A = np.empty(shape=(c,c))\n",
    "shift = N - 2*c - 1\n",
    "for i in range(c):\n",
    "    A[i][0] = 1\n",
    "    for j in range(p):\n",
    "       A[i][1 + j] = ts[shift + j]\n",
    "    s = p + 1\n",
    "    for j in range(p):\n",
    "        for k in range(j + 1):\n",
    "            A[i][s] = ts[shift + j] * ts[shift + k]\n",
    "            s += 1\n",
    "    shift += 1\n",
    "b = np.empty(c)\n",
    "shift = N - c\n",
    "for i in range(c):\n",
    "    b[i] = ts[shift + i]\n",
    "x = np.linalg.solve(A,b)"
   ]
  },
  {
   "cell_type": "code",
   "execution_count": 69,
   "metadata": {},
   "outputs": [
    {
     "name": "stdout",
     "output_type": "stream",
     "text": [
      "0.0002206627240430102\n"
     ]
    }
   ],
   "source": [
    "a_0 = x[0]\n",
    "a = x[1:p+1]\n",
    "B = np.empty(shape=(p,p))\n",
    "s = p + 1\n",
    "for i in range(p):\n",
    "    for j in range(i + 1):\n",
    "        B[i][j] = B[j][i] = x[s]\n",
    "        s += 1\n",
    "t = ts[-p:]\n",
    "pred = a_0 + np.dot(t, a) + np.dot(np.dot(t, B), t)\n",
    "print(pred)"
   ]
  }
 ],
 "metadata": {
  "kernelspec": {
   "display_name": "Python 3",
   "language": "python",
   "name": "python3"
  },
  "language_info": {
   "codemirror_mode": {
    "name": "ipython",
    "version": 3
   },
   "file_extension": ".py",
   "mimetype": "text/x-python",
   "name": "python",
   "nbconvert_exporter": "python",
   "pygments_lexer": "ipython3",
   "version": "3.7.3"
  }
 },
 "nbformat": 4,
 "nbformat_minor": 4
}
